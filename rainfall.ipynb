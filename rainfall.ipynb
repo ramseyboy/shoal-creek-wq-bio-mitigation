{
 "cells": [
  {
   "cell_type": "markdown",
   "source": [],
   "metadata": {
    "collapsed": false
   },
   "id": "754d17dfd87755dd"
  },
  {
   "cell_type": "code",
   "source": [
    "import geopandas\n",
    "import matplotlib.pyplot as plt\n",
    "import contextily as cx\n",
    "import pandas\n",
    "from sklearn.preprocessing import LabelEncoder\n",
    "import warnings\n",
    "warnings.filterwarnings('ignore')\n",
    "geopandas.options.io_engine = \"pyogrio\"\n",
    "\n",
    "db_path = \"data/staging.gpkg\"\n"
   ],
   "metadata": {
    "collapsed": false,
    "ExecuteTime": {
     "end_time": "2024-04-13T19:09:55.451521Z",
     "start_time": "2024-04-13T19:09:53.982030Z"
    }
   },
   "id": "7898ed09bce24a68",
   "outputs": [
    {
     "name": "stderr",
     "output_type": "stream",
     "text": [
      "/Users/walkerhannan/projects/Bio-Mitigation-Sediment-Transport/.venv/lib/python3.9/site-packages/urllib3/__init__.py:35: NotOpenSSLWarning: urllib3 v2 only supports OpenSSL 1.1.1+, currently the 'ssl' module is compiled with 'LibreSSL 2.8.3'. See: https://github.com/urllib3/urllib3/issues/3020\n",
      "  warnings.warn(\n"
     ]
    }
   ],
   "execution_count": 1
  },
  {
   "cell_type": "code",
   "source": [
    "from sqlalchemy import create_engine\n",
    "from config import PostgresReadOnlyConfig\n",
    "\n",
    "query = \"\"\"\n",
    "  select * FROM public.climate_hourly h\n",
    "    where h.parameter = 'Precipitation'\n",
    "\"\"\"\n",
    "conn_str = PostgresReadOnlyConfig().__str__()\n",
    "engine = create_engine(conn_str)\n",
    "rainfall = geopandas.read_postgis(sql=query, con=engine, geom_col='geometry', crs=\"EPSG:26914\")\n",
    "rainfall.head()"
   ],
   "metadata": {
    "collapsed": false,
    "ExecuteTime": {
     "end_time": "2024-04-13T19:10:05.469943Z",
     "start_time": "2024-04-13T19:09:55.453002Z"
    }
   },
   "id": "a32f640252969a06",
   "outputs": [
    {
     "data": {
      "text/plain": [
       "                                                ckey            date_time  \\\n",
       "0  323032312D30372D32375430373A35313A303055535730...  2021-07-27T07:51:00   \n",
       "1  323032312D30372D32375430383A35313A303055535730...  2021-07-27T08:51:00   \n",
       "2  323032312D30372D32375430393A35313A303055535730...  2021-07-27T09:51:00   \n",
       "3  323032312D30372D32375431303A35313A303055535730...  2021-07-27T10:51:00   \n",
       "4  323032312D30372D32375431313A35313A303055535730...  2021-07-27T11:51:00   \n",
       "\n",
       "  longitude latitude station_number value      parameter  \\\n",
       "0  -97.7604  30.3208    USW00013958  0.00  Precipitation   \n",
       "1  -97.7604  30.3208    USW00013958  0.00  Precipitation   \n",
       "2  -97.7604  30.3208    USW00013958  0.00  Precipitation   \n",
       "3  -97.7604  30.3208    USW00013958  0.00  Precipitation   \n",
       "4  -97.7604  30.3208    USW00013958  0.00  Precipitation   \n",
       "\n",
       "                         geometry  \n",
       "0  POINT (619174.738 3354984.354)  \n",
       "1  POINT (619174.738 3354984.354)  \n",
       "2  POINT (619174.738 3354984.354)  \n",
       "3  POINT (619174.738 3354984.354)  \n",
       "4  POINT (619174.738 3354984.354)  "
      ],
      "text/html": [
       "<div>\n",
       "<style scoped>\n",
       "    .dataframe tbody tr th:only-of-type {\n",
       "        vertical-align: middle;\n",
       "    }\n",
       "\n",
       "    .dataframe tbody tr th {\n",
       "        vertical-align: top;\n",
       "    }\n",
       "\n",
       "    .dataframe thead th {\n",
       "        text-align: right;\n",
       "    }\n",
       "</style>\n",
       "<table border=\"1\" class=\"dataframe\">\n",
       "  <thead>\n",
       "    <tr style=\"text-align: right;\">\n",
       "      <th></th>\n",
       "      <th>ckey</th>\n",
       "      <th>date_time</th>\n",
       "      <th>longitude</th>\n",
       "      <th>latitude</th>\n",
       "      <th>station_number</th>\n",
       "      <th>value</th>\n",
       "      <th>parameter</th>\n",
       "      <th>geometry</th>\n",
       "    </tr>\n",
       "  </thead>\n",
       "  <tbody>\n",
       "    <tr>\n",
       "      <th>0</th>\n",
       "      <td>323032312D30372D32375430373A35313A303055535730...</td>\n",
       "      <td>2021-07-27T07:51:00</td>\n",
       "      <td>-97.7604</td>\n",
       "      <td>30.3208</td>\n",
       "      <td>USW00013958</td>\n",
       "      <td>0.00</td>\n",
       "      <td>Precipitation</td>\n",
       "      <td>POINT (619174.738 3354984.354)</td>\n",
       "    </tr>\n",
       "    <tr>\n",
       "      <th>1</th>\n",
       "      <td>323032312D30372D32375430383A35313A303055535730...</td>\n",
       "      <td>2021-07-27T08:51:00</td>\n",
       "      <td>-97.7604</td>\n",
       "      <td>30.3208</td>\n",
       "      <td>USW00013958</td>\n",
       "      <td>0.00</td>\n",
       "      <td>Precipitation</td>\n",
       "      <td>POINT (619174.738 3354984.354)</td>\n",
       "    </tr>\n",
       "    <tr>\n",
       "      <th>2</th>\n",
       "      <td>323032312D30372D32375430393A35313A303055535730...</td>\n",
       "      <td>2021-07-27T09:51:00</td>\n",
       "      <td>-97.7604</td>\n",
       "      <td>30.3208</td>\n",
       "      <td>USW00013958</td>\n",
       "      <td>0.00</td>\n",
       "      <td>Precipitation</td>\n",
       "      <td>POINT (619174.738 3354984.354)</td>\n",
       "    </tr>\n",
       "    <tr>\n",
       "      <th>3</th>\n",
       "      <td>323032312D30372D32375431303A35313A303055535730...</td>\n",
       "      <td>2021-07-27T10:51:00</td>\n",
       "      <td>-97.7604</td>\n",
       "      <td>30.3208</td>\n",
       "      <td>USW00013958</td>\n",
       "      <td>0.00</td>\n",
       "      <td>Precipitation</td>\n",
       "      <td>POINT (619174.738 3354984.354)</td>\n",
       "    </tr>\n",
       "    <tr>\n",
       "      <th>4</th>\n",
       "      <td>323032312D30372D32375431313A35313A303055535730...</td>\n",
       "      <td>2021-07-27T11:51:00</td>\n",
       "      <td>-97.7604</td>\n",
       "      <td>30.3208</td>\n",
       "      <td>USW00013958</td>\n",
       "      <td>0.00</td>\n",
       "      <td>Precipitation</td>\n",
       "      <td>POINT (619174.738 3354984.354)</td>\n",
       "    </tr>\n",
       "  </tbody>\n",
       "</table>\n",
       "</div>"
      ]
     },
     "execution_count": 2,
     "metadata": {},
     "output_type": "execute_result"
    }
   ],
   "execution_count": 2
  }
 ],
 "metadata": {
  "kernelspec": {
   "display_name": "Python 3",
   "language": "python",
   "name": "python3"
  },
  "language_info": {
   "codemirror_mode": {
    "name": "ipython",
    "version": 2
   },
   "file_extension": ".py",
   "mimetype": "text/x-python",
   "name": "python",
   "nbconvert_exporter": "python",
   "pygments_lexer": "ipython2",
   "version": "2.7.6"
  }
 },
 "nbformat": 4,
 "nbformat_minor": 5
}
