{
 "cells": [
  {
   "metadata": {
    "ExecuteTime": {
     "end_time": "2024-05-02T05:32:37.426770Z",
     "start_time": "2024-05-02T05:32:37.398702Z"
    }
   },
   "cell_type": "code",
   "source": [
    "%load_ext autoreload\n",
    "%autoreload 2"
   ],
   "id": "1b9bdb6a3359ccfd",
   "outputs": [
    {
     "name": "stdout",
     "output_type": "stream",
     "text": [
      "The autoreload extension is already loaded. To reload it, use:\n",
      "  %reload_ext autoreload\n"
     ]
    }
   ],
   "execution_count": 13
  },
  {
   "cell_type": "code",
   "id": "initial_id",
   "metadata": {
    "collapsed": true,
    "ExecuteTime": {
     "end_time": "2024-05-02T05:32:37.443326Z",
     "start_time": "2024-05-02T05:32:37.428336Z"
    }
   },
   "source": [
    "from solvers import ChannelType\n",
    "from solvers.channel_discharge_solver import ChannelDischargeSolver\n",
    "from solvers.volume_solver import VolumeSolver\n",
    "from solvers.catchment_runoff_solver import CatchmentRunoffSolver\n",
    "\n",
    "\n",
    "c_v = CatchmentRunoffSolver(\n",
    "    catchment_area=20.4,\n",
    "    rainfall_depth=1.89,\n",
    "    impervious_cover_fraction=0.23\n",
    ").solve()\n",
    "\n",
    "print(\n",
    "    f\"Catchment Area: 5 yr RI storm with rainfall depth = {1.89}in, total runoff volume = {c_v}ft^3\")\n",
    "\n",
    "q_a = ChannelDischargeSolver(\n",
    "    channel_type=ChannelType.Trapezoid,\n",
    "    manning_roughness_coefficient=0.09,\n",
    "    channel_slope=2,\n",
    "    bottom_width_channel=1.513888889,\n",
    "    depth_flow=0.805555556,\n",
    "    side_slope=0.032754349\n",
    ").solve()\n",
    "v_a = VolumeSolver(\n",
    "    channel_type=ChannelType.Trapezoid,\n",
    "    channel_length=160,\n",
    "    bottom_width_channel=1.513888889,\n",
    "    top_width_channel=4.479166667,\n",
    "    depth_flow=0.805555556,\n",
    "    soil_depth=6.56168,\n",
    "    soil_water_capacity=0.14\n",
    ").solve()\n",
    "\n",
    "q_c = ChannelDischargeSolver(\n",
    "    channel_type=ChannelType.Trapezoid,\n",
    "    manning_roughness_coefficient=0.04,\n",
    "    channel_slope=7.25,\n",
    "    bottom_width_channel=1.5625,\n",
    "    depth_flow=1.3125,\n",
    "    side_slope=0.014176131\n",
    ").solve()\n",
    "v_c = VolumeSolver(\n",
    "    channel_type=ChannelType.Trapezoid,\n",
    "    channel_length=58,\n",
    "    bottom_width_channel=1.5625,\n",
    "    top_width_channel=4.416666667,\n",
    "    depth_flow=1.3125,\n",
    "    soil_depth=6.56168,\n",
    "    soil_water_capacity=0.14\n",
    ").solve()\n",
    "\n",
    "v_b1 = VolumeSolver(\n",
    "    channel_type=ChannelType.Rectangle,\n",
    "    channel_length=19,\n",
    "    top_width_channel=7.354166667,\n",
    "    depth_flow=0.805555556\n",
    ").solve()\n",
    "\n",
    "v_b2 = VolumeSolver(\n",
    "    channel_type=ChannelType.Rectangle,\n",
    "    channel_length=14,\n",
    "    top_width_channel=4.861111111,\n",
    "    depth_flow=1.111111111\n",
    ").solve()\n",
    "\n",
    "v_c_summed = round(sum([v_c, v_b1, v_b2]), 2)\n",
    "\n",
    "print(\n",
    "    f\"Swale A: Discharge Capacity = {q_a}ft^3/s, Total volume = {v_a}ft^3, Time to reach capacity = {round(v_a / q_a, 2)}s\")\n",
    "print(\n",
    "    f\"Swale C: Discharge Capacity = {q_c}ft^3/s, Total volume = {v_c}ft^3, Time to reach capacity = {round(v_c / q_c, 2)}s\")\n",
    "print(\n",
    "    f\"Swale C w/basins: Discharge Capacity = {q_c}ft^3/s, Total volume = {v_c_summed}ft^3, Time to reach capacity = {round(v_c_summed / q_c, 2)}s\")"
   ],
   "outputs": [
    {
     "name": "stdout",
     "output_type": "stream",
     "text": [
      "Catchment Area: 5 yr RI storm with rainfall depth = 1.89in, total runoff volume = 35969.28ft^3\n",
      "Swale A: Discharge Capacity = 19.14ft^3/s, Total volume = 608.73ft^3, Time to reach capacity = 31.8s\n",
      "Swale C: Discharge Capacity = 167.47ft^3/s, Total volume = 310.83ft^3, Time to reach capacity = 1.86s\n",
      "Swale C w/basins: Discharge Capacity = 167.47ft^3/s, Total volume = 499.01ft^3, Time to reach capacity = 2.98s\n"
     ]
    }
   ],
   "execution_count": 14
  },
  {
   "metadata": {
    "ExecuteTime": {
     "end_time": "2024-05-02T05:32:37.446361Z",
     "start_time": "2024-05-02T05:32:37.444236Z"
    }
   },
   "cell_type": "code",
   "source": "",
   "id": "3455822afe11170e",
   "outputs": [],
   "execution_count": 14
  },
  {
   "metadata": {
    "ExecuteTime": {
     "end_time": "2024-05-02T05:32:37.448520Z",
     "start_time": "2024-05-02T05:32:37.446999Z"
    }
   },
   "cell_type": "code",
   "source": "",
   "id": "4d0616a93ec453b3",
   "outputs": [],
   "execution_count": 14
  }
 ],
 "metadata": {
  "kernelspec": {
   "display_name": "Python 3",
   "language": "python",
   "name": "python3"
  },
  "language_info": {
   "codemirror_mode": {
    "name": "ipython",
    "version": 2
   },
   "file_extension": ".py",
   "mimetype": "text/x-python",
   "name": "python",
   "nbconvert_exporter": "python",
   "pygments_lexer": "ipython2",
   "version": "2.7.6"
  }
 },
 "nbformat": 4,
 "nbformat_minor": 5
}
